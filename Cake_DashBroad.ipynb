{
 "cells": [
  {
   "cell_type": "code",
   "execution_count": 3,
   "metadata": {},
   "outputs": [
    {
     "name": "stdout",
     "output_type": "stream",
     "text": [
      "       Date         Product  Units_Sold  Revenue\n",
      "0  1/1/2023  Chocolate Cake          71      710\n",
      "1  1/2/2023    Vanilla Cake          56      560\n",
      "2  1/3/2023     Carrot Cake          47      470\n",
      "3  1/4/2023      Red Velvet          68      680\n",
      "4  1/5/2023         Brownie          79      790\n"
     ]
    }
   ],
   "source": [
    "import pandas as pd\n",
    "\n",
    "df = pd.read_csv(r\"C:\\Users\\misha\\OneDrive\\Desktop\\DMV_CSV\\sales_data.csv\")\n",
    "\n",
    "print(df.head())\n",
    "    "
   ]
  },
  {
   "cell_type": "code",
   "execution_count": 4,
   "metadata": {},
   "outputs": [],
   "source": [
    "import pandas as pd\n",
    "# Load the dataset\n",
    "df = pd.read_csv(r\"C:\\Users\\misha\\OneDrive\\Desktop\\DMV_CSV\\sales_data.csv\")\n",
    "\n",
    "#Load the dataset into a DataFrame\n",
    "sales_df = pd.DataFrame(df)\n",
    "\n"
   ]
  },
  {
   "cell_type": "code",
   "execution_count": 5,
   "metadata": {},
   "outputs": [
    {
     "data": {
      "text/html": [
       "\n",
       "        <iframe\n",
       "            width=\"100%\"\n",
       "            height=\"650\"\n",
       "            src=\"http://127.0.0.1:8050/\"\n",
       "            frameborder=\"0\"\n",
       "            allowfullscreen\n",
       "            \n",
       "        ></iframe>\n",
       "        "
      ],
      "text/plain": [
       "<IPython.lib.display.IFrame at 0x1a46fd95410>"
      ]
     },
     "metadata": {},
     "output_type": "display_data"
    },
    {
     "ename": "",
     "evalue": "",
     "output_type": "error",
     "traceback": [
      "\u001b[1;31mThe Kernel crashed while executing code in the current cell or a previous cell. \n",
      "\u001b[1;31mPlease review the code in the cell(s) to identify a possible cause of the failure. \n",
      "\u001b[1;31mClick <a href='https://aka.ms/vscodeJupyterKernelCrash'>here</a> for more info. \n",
      "\u001b[1;31mView Jupyter <a href='command:jupyter.viewOutput'>log</a> for further details."
     ]
    }
   ],
   "source": [
    "import dash\n",
    "import dash_core_components as dcc\n",
    "import dash_html_components as html\n",
    "from dash.dependencies import Input, Output\n",
    "import plotly.express as px\n",
    "\n",
    "\n",
    "\n",
    "# Initialize the Dash app\n",
    "app = dash.Dash(__name__)\n",
    "\n",
    "# Define product options for dropdown menu\n",
    "product_options = [{'label': product, 'value': product} for product in sales_df['Product'].unique()]\n",
    "\n",
    "# Adding color mapping for products\n",
    "color_map = {\n",
    "    'Chocolate Cake': 'brown',\n",
    "    'Vanilla Cake': '#B8860B',\n",
    "    'Carrot Cake': 'orange',\n",
    "    'Red Velvet': 'red',\n",
    "    'Brownie': 'black'\n",
    "}\n",
    "\n",
    "# Define layout\n",
    "app.layout = html.Div(children=[\n",
    "    html.H1(\"Sales Dashboard\", style={'color': 'white'}),\n",
    "    \n",
    "    # Dropdown menu to select a product\n",
    "    dcc.Dropdown(\n",
    "        id='product-dropdown',\n",
    "        options=product_options,\n",
    "        value=product_options[0]['value'],  # default value\n",
    "        placeholder=\"Select a product\"\n",
    "    ),\n",
    "    \n",
    "    # Line chart to visualize the trend of units sold over time for the selected product\n",
    "    dcc.Graph(id='line-chart'),\n",
    "    \n",
    "    # Bar chart to visualize total revenue generated from sales for each product\n",
    "    dcc.Graph(id='bar-chart'),\n",
    "    \n",
    "    # Summary statistics for the 'Revenue' column\n",
    "    html.Div(id='summary-stats')\n",
    "])\n",
    "\n",
    "# Callback to update line chart and bar chart based on selected product\n",
    "@app.callback(\n",
    "    [Output('line-chart', 'figure'),\n",
    "     Output('bar-chart', 'figure')],\n",
    "    [Input('product-dropdown', 'value')]\n",
    ")\n",
    "def update_charts(selected_product):\n",
    "    # Filter dataframe for the selected product\n",
    "    filtered_df = sales_df[sales_df['Product'] == selected_product]\n",
    "    \n",
    "    # Line chart for trend of units sold over time\n",
    "    line_chart_fig = px.line(filtered_df, x='Date', y='Units_Sold', title=f'Units Sold Over Time for {selected_product}')\n",
    "    line_chart_fig.update_traces(line_color=color_map[selected_product])\n",
    "    \n",
    "    # Bar chart for total revenue generated from sales for each product\n",
    "    bar_chart_fig = px.bar(sales_df, x='Product', y='Revenue', color='Product', color_discrete_map=color_map, title='Total Revenue by Product')\n",
    "    \n",
    "    # To display the graphs\n",
    "    return line_chart_fig, bar_chart_fig\n",
    "\n",
    "# Callback to display summary statistics\n",
    "@app.callback(\n",
    "    Output('summary-stats', 'children'),\n",
    "    [Input('product-dropdown', 'value')]\n",
    ")\n",
    "def update_summary_stats(selected_product):\n",
    "    # Filter dataframe for the selected product\n",
    "    filtered_df = sales_df[sales_df['Product'] == selected_product]\n",
    "    \n",
    "    # Calculate summary statistics\n",
    "    mean_revenue = filtered_df['Revenue'].mean().round(2)\n",
    "    median_revenue = filtered_df['Revenue'].median()\n",
    "    min_revenue = filtered_df['Revenue'].min()\n",
    "    max_revenue = filtered_df['Revenue'].max()\n",
    "    \n",
    "    # Display summary statistics\n",
    "    return html.Div([\n",
    "        html.H3('Summary Statistics for Revenue', style={'color': 'white'}),\n",
    "        html.Table([\n",
    "            html.Tr([html.Td('Mean:', style={'color': 'white'}), html.Td(mean_revenue, style={'color': 'white'})]),\n",
    "            html.Tr([html.Td('Median:', style={'color': 'white'}), html.Td(median_revenue, style={'color': 'white'})]),\n",
    "            html.Tr([html.Td('Min:', style={'color': 'white'}), html.Td(min_revenue, style={'color': 'white'})]),\n",
    "            html.Tr([html.Td('Max:', style={'color': 'white'}), html.Td(max_revenue, style={'color': 'white'})])\n",
    "        ])\n",
    "    ])\n",
    "\n",
    "# Run the app\n",
    "if __name__ == '__main__':\n",
    "    app.run_server(debug=True)\n"
   ]
  }
 ],
 "metadata": {
  "kernelspec": {
   "display_name": "Python 3",
   "language": "python",
   "name": "python3"
  },
  "language_info": {
   "codemirror_mode": {
    "name": "ipython",
    "version": 3
   },
   "file_extension": ".py",
   "mimetype": "text/x-python",
   "name": "python",
   "nbconvert_exporter": "python",
   "pygments_lexer": "ipython3",
   "version": "3.11.9"
  }
 },
 "nbformat": 4,
 "nbformat_minor": 2
}
